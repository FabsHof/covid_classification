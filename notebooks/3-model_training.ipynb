{
 "cells": [
  {
   "cell_type": "markdown",
   "id": "61bc5e09",
   "metadata": {},
   "source": [
    "# 🏋 Model Training\n",
    "\n",
    "## Data Balancing\n",
    "\n",
    "TODO: Use the balanced class weight here:\n",
    "from sklearn.utils.class_weight import compute_class_weight\n",
    "See https://www.tensorflow.org/tutorials/structured_data/imbalanced_data"
   ]
  }
 ],
 "metadata": {
  "language_info": {
   "name": "python"
  }
 },
 "nbformat": 4,
 "nbformat_minor": 5
}
